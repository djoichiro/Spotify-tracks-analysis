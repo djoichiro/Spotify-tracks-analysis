{
  "nbformat": 4,
  "nbformat_minor": 0,
  "metadata": {
    "colab": {
      "provenance": []
    },
    "kernelspec": {
      "name": "python3",
      "display_name": "Python 3"
    },
    "language_info": {
      "name": "python"
    }
  },
  "cells": [
    {
      "cell_type": "code",
      "execution_count": 10,
      "metadata": {
        "colab": {
          "base_uri": "https://localhost:8080/"
        },
        "id": "LLuQ0KzzgEiC",
        "outputId": "2617a62e-4fb3-4171-eb41-50226f25c775"
      },
      "outputs": [
        {
          "output_type": "stream",
          "name": "stdout",
          "text": [
            "Drive already mounted at /content/drive; to attempt to forcibly remount, call drive.mount(\"/content/drive\", force_remount=True).\n"
          ]
        }
      ],
      "source": [
        "# Подключение Google Диска (для доступа к файлу с датасетом)\n",
        "from google.colab import drive\n",
        "drive.mount('/content/drive')"
      ]
    },
    {
      "cell_type": "code",
      "source": [
        "# Импорт необходимых библиотек из PySpark\n",
        "from pyspark.sql import SparkSession\n",
        "from pyspark.sql.functions import col, when, regexp_extract\n",
        "from pyspark.sql.types import DoubleType"
      ],
      "metadata": {
        "id": "dDOWLhpTgNWS"
      },
      "execution_count": 11,
      "outputs": []
    },
    {
      "cell_type": "code",
      "source": [
        "# Создание сессии Spark\n",
        "spark = SparkSession.builder.appName(\"SpotifyTrends\").getOrCreate()\n",
        "\n",
        "# Загрузка CSV-файла с треками из Google Drive\n",
        "df = spark.read.option(\"header\", True).option(\"inferSchema\", True).csv(\n",
        "    \"/content/drive/MyDrive/tracks.csv\"\n",
        ")"
      ],
      "metadata": {
        "id": "GXd9gmZngNsG"
      },
      "execution_count": 14,
      "outputs": []
    },
    {
      "cell_type": "code",
      "source": [
        "# Извлечение года из поля release_date, поддерживаются разные форматы:\n",
        "# yyyy, yyyy-MM, yyyy-MM-dd, dd/MM/yyyy\n",
        "df = df.withColumn(\n",
        "    \"release_year\",\n",
        "    when(col(\"release_date\").rlike(r\"^\\d{4}$\"),\n",
        "         col(\"release_date\").cast(\"int\"))\n",
        "    .when(col(\"release_date\").rlike(r\"^\\d{4}-\\d{2}$\"),\n",
        "          regexp_extract(col(\"release_date\"), r\"^(\\d{4})\", 1).cast(\"int\"))\n",
        "    .when(col(\"release_date\").rlike(r\"^\\d{2}/\\d{2}/\\d{4}$\"),\n",
        "          regexp_extract(col(\"release_date\"), r\"(\\d{4})$\", 1).cast(\"int\"))\n",
        "    .when(col(\"release_date\").rlike(r\"^\\d{4}-\\d{2}-\\d{2}$\"),\n",
        "          regexp_extract(col(\"release_date\"), r\"^(\\d{4})\", 1).cast(\"int\"))\n",
        "    .otherwise(None)\n",
        ")"
      ],
      "metadata": {
        "id": "pwJ9_JSJgNx2"
      },
      "execution_count": 15,
      "outputs": []
    },
    {
      "cell_type": "code",
      "source": [
        "# Фильтрация строк с корректным годом выпуска\n",
        "df = df.filter(col(\"release_year\").isNotNull())"
      ],
      "metadata": {
        "id": "o6r2V0_2gN0H"
      },
      "execution_count": 16,
      "outputs": []
    },
    {
      "cell_type": "code",
      "source": [
        "# Оставляем только треки, выпущенные с 1920 года\n",
        "df = df.filter(col(\"release_year\") >= 1920)"
      ],
      "metadata": {
        "id": "3lvz-oyGgN3F"
      },
      "execution_count": 17,
      "outputs": []
    },
    {
      "cell_type": "code",
      "source": [
        "# Вычисление десятилетия для каждого трека (например, 1987 → 1980)\n",
        "df = df.withColumn(\"decade\", (col(\"release_year\") / 10).cast(\"int\") * 10)"
      ],
      "metadata": {
        "id": "J5SoWSNagN5c"
      },
      "execution_count": 18,
      "outputs": []
    },
    {
      "cell_type": "code",
      "source": [
        "# Список аудиопараметров, которые будут анализироваться\n",
        "features = [\n",
        "    \"danceability\", \"energy\", \"loudness\", \"speechiness\",\n",
        "    \"acousticness\", \"instrumentalness\", \"liveness\", \"valence\", \"tempo\"\n",
        "]"
      ],
      "metadata": {
        "id": "pZK3Y1fWgcI5"
      },
      "execution_count": 19,
      "outputs": []
    },
    {
      "cell_type": "code",
      "source": [
        "# Приведение каждого параметра к типу Double (для последующей агрегации)\n",
        "for feature in features:\n",
        "    df = df.withColumn(feature, col(feature).cast(DoubleType()))"
      ],
      "metadata": {
        "id": "GmNxlZyTgeiL"
      },
      "execution_count": 20,
      "outputs": []
    },
    {
      "cell_type": "code",
      "source": [
        "# Группировка по десятилетиям и вычисление среднего значения для каждого параметра\n",
        "agg_df = df.groupBy(\"decade\").avg(*features).orderBy(\"decade\")"
      ],
      "metadata": {
        "id": "fQb4VxGrgekO"
      },
      "execution_count": 21,
      "outputs": []
    },
    {
      "cell_type": "code",
      "source": [
        "# Сохранение результата в CSV-файл (в одну партицию, с заголовками)\n",
        "agg_df.coalesce(1).write.option(\"header\", True).mode(\"overwrite\").csv(\"/content/drive/MyDrive/output/spotify_trends\")"
      ],
      "metadata": {
        "id": "xsaFDf8dgemk"
      },
      "execution_count": 22,
      "outputs": []
    },
    {
      "cell_type": "code",
      "source": [
        "# Вывод полученной таблицы в консоль\n",
        "agg_df.show()"
      ],
      "metadata": {
        "id": "Ky7Z38u6gcLM",
        "colab": {
          "base_uri": "https://localhost:8080/"
        },
        "outputId": "62b03cf2-ad47-4d89-d28b-cf3a7dc6eef1"
      },
      "execution_count": 23,
      "outputs": [
        {
          "output_type": "stream",
          "name": "stdout",
          "text": [
            "+------+-------------------+-------------------+-------------------+-------------------+-------------------+---------------------+-------------------+------------------+------------------+\n",
            "|decade|  avg(danceability)|        avg(energy)|      avg(loudness)|   avg(speechiness)|  avg(acousticness)|avg(instrumentalness)|      avg(liveness)|      avg(valence)|        avg(tempo)|\n",
            "+------+-------------------+-------------------+-------------------+-------------------+-------------------+---------------------+-------------------+------------------+------------------+\n",
            "|  1920| 0.6044980792001055|0.28125600052624633|-14.789149190895909|0.29171081436653223| 0.8901129887383201|  0.32611214068148864| 0.2046233258781741|0.5999094605972903|113.12064886199191|\n",
            "|  1930| 0.5522532350216158|0.30676277509265004|-13.522755867819649|0.19452228227300855| 0.8693909407273038|  0.27482508944101464|0.21714564546016088| 0.572560382952439|112.83435013897511|\n",
            "|  1940|0.47718324893090214| 0.2685315676344811|-14.196273970290271|0.10001664415935181| 0.9146834272563601|   0.3819400739984241|0.21389444069322566|0.5043820751744332|107.11015653837478|\n",
            "|  1950|0.48777139535568315|0.30281471289401696|-14.272708744150389|0.10806722488742378| 0.8364244313797593|    0.248301429149425|0.21083357859728677|0.5054985303028506|111.08317494187209|\n",
            "|  1960|0.49832130392115515|0.40633874567990913|-12.468499146648387|0.07663447326876341| 0.6800565838548043|   0.1595737188411493| 0.2132387741605147|0.5639647559414579|114.20092215300626|\n",
            "|  1970| 0.5240569810095742| 0.5026020538548954|-11.427623145593232|  0.103561257912677| 0.4993326471702615|  0.10073820331293694|0.22255466028242124|0.5808344534978104| 117.4157947898074|\n",
            "|  1980| 0.5635851921297385| 0.5506233901646106|-11.305605634831725|0.13873560000973845|0.40595191095736044|   0.0808659046232898| 0.2257954519553894|0.5806300652607977|118.87677536161353|\n",
            "|  1990| 0.5722725236500189| 0.5746292606268649|-10.318843495785258|0.09942431810652587| 0.3662772659834518|  0.07329183580465275|0.21661842759597902|0.5697618027386174|119.69521585011297|\n",
            "|  2000| 0.5900959242329817| 0.6492454836530688| -7.555116409261975|0.08037426183715417| 0.3129212164921375|   0.0558838711614383|0.21077038980076993|0.5640294649906498|121.43506035736478|\n",
            "|  2010| 0.6084883570714038| 0.6584178113237791| -7.283913180583996|0.09072811318058385| 0.2877811493377789|  0.08885333605573306|0.20557987233839933|0.5142258487400535|122.08340345829554|\n",
            "|  2020| 0.6615824750954046| 0.6328855980373688| -7.647281310402949|0.11788785746146596|0.27387514179213956|  0.11514137585171254|0.18660253754274736| 0.503013339941517|121.86342414630492|\n",
            "+------+-------------------+-------------------+-------------------+-------------------+-------------------+---------------------+-------------------+------------------+------------------+\n",
            "\n"
          ]
        }
      ]
    },
    {
      "cell_type": "code",
      "source": [
        "# Завершение сессии Spark\n",
        "spark.stop()"
      ],
      "metadata": {
        "id": "bIAl7P_Yghng"
      },
      "execution_count": 24,
      "outputs": []
    }
  ]
}